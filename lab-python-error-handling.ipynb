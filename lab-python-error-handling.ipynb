{
 "cells": [
  {
   "cell_type": "markdown",
   "id": "25d7736c-ba17-4aff-b6bb-66eba20fbf4e",
   "metadata": {},
   "source": [
    "# Lab | Error Handling"
   ]
  },
  {
   "cell_type": "markdown",
   "id": "bc99b386-7508-47a0-bcdb-d969deaf6c8b",
   "metadata": {},
   "source": [
    "## Exercise: Error Handling for Managing Customer Orders\n",
    "\n",
    "The implementation of your code for managing customer orders assumes that the user will always enter a valid input. \n",
    "\n",
    "For example, we could modify the `initialize_inventory` function to include error handling.\n",
    "   - If the user enters an invalid quantity (e.g., a negative value or a non-numeric value), display an error message and ask them to re-enter the quantity for that product.\n",
    "   - Use a try-except block to handle the error and continue prompting the user until a valid quantity is entered.\n",
    "\n",
    "```python\n",
    "# Step 1: Define the function for initializing the inventory with error handling\n",
    "def initialize_inventory(products):\n",
    "    inventory = {}\n",
    "    for product in products:\n",
    "        valid_quantity = False\n",
    "        while not valid_quantity:\n",
    "            try:\n",
    "                quantity = int(input(f\"Enter the quantity of {product}s available: \"))\n",
    "                if quantity < 0:\n",
    "                    raise ValueError(\"Invalid quantity! Please enter a non-negative value.\")\n",
    "                valid_quantity = True\n",
    "            except ValueError as error:\n",
    "                print(f\"Error: {error}\")\n",
    "        inventory[product] = quantity\n",
    "    return inventory\n",
    "\n",
    "# Or, in another way:\n",
    "\n",
    "def initialize_inventory(products):\n",
    "    inventory = {}\n",
    "    for product in products:\n",
    "        valid_input = False\n",
    "        while not valid_input:\n",
    "            try:\n",
    "                quantity = int(input(f\"Enter the quantity of {product}s available: \"))\n",
    "                if quantity >= 0:\n",
    "                    inventory[product] = quantity\n",
    "                    valid_input = True\n",
    "                else:\n",
    "                    print(\"Quantity cannot be negative. Please enter a valid quantity.\")\n",
    "            except ValueError:\n",
    "                print(\"Invalid input. Please enter a valid quantity.\")\n",
    "    return inventory\n",
    "```\n",
    "\n",
    "Let's enhance your code by implementing error handling to handle invalid inputs.\n",
    "\n",
    "Follow the steps below to complete the exercise:\n",
    "\n",
    "2. Modify the `calculate_total_price` function to include error handling.\n",
    "   - If the user enters an invalid price (e.g., a negative value or a non-numeric value), display an error message and ask them to re-enter the price for that product.\n",
    "   - Use a try-except block to handle the error and continue prompting the user until a valid price is entered.\n",
    "\n",
    "3. Modify the `get_customer_orders` function to include error handling.\n",
    "   - If the user enters an invalid number of orders (e.g., a negative value or a non-numeric value), display an error message and ask them to re-enter the number of orders.\n",
    "   - If the user enters an invalid product name (e.g., a product name that is not in the inventory), or that doesn't have stock available, display an error message and ask them to re-enter the product name. *Hint: you will need to pass inventory as a parameter*\n",
    "   - Use a try-except block to handle the error and continue prompting the user until a valid product name is entered.\n",
    "\n",
    "4. Test your code by running the program and deliberately entering invalid quantities and product names. Make sure the error handling mechanism works as expected.\n"
   ]
  },
  {
   "cell_type": "code",
   "execution_count": 5,
   "id": "90c70913",
   "metadata": {},
   "outputs": [],
   "source": [
    "         #Exercise 02\n",
    "def calculate_total_price(customer_orders):\n",
    "    total_price = 0\n",
    "    for product in customer_orders:\n",
    "        valid_price = False \n",
    "        while not valid_price:\n",
    "            try:\n",
    "                price = float(input(f\"Enter the price of {product}:\"))\n",
    "                if price < 0 :\n",
    "                    raise ValueError(\"Invalid price! Please enter a non - negative value\")\n",
    "                total_price += price\n",
    "                valid_price = True\n",
    "            except ValueError as error:\n",
    "                print(f\"Error: {error}\")\n",
    "    return total_price  "
   ]
  },
  {
   "cell_type": "code",
   "execution_count": 7,
   "id": "1acb3c24",
   "metadata": {},
   "outputs": [
    {
     "ename": "IndentationError",
     "evalue": "unindent does not match any outer indentation level (<tokenize>, line 8)",
     "output_type": "error",
     "traceback": [
      "\u001b[1;36m  File \u001b[1;32m<tokenize>:8\u001b[1;36m\u001b[0m\n\u001b[1;33m    num_orders = int(input(\"Enter the number of customer orders:\"))\u001b[0m\n\u001b[1;37m    ^\u001b[0m\n\u001b[1;31mIndentationError\u001b[0m\u001b[1;31m:\u001b[0m unindent does not match any outer indentation level\n"
     ]
    }
   ],
   "source": [
    "          #Exercise 03\n",
    "\n",
    "def get_customer_orders(inventory):\n",
    "    customer_orders = set()\n",
    "    valid_num_orders = False \n",
    "    while not valid_num_orders:\n",
    "        try:\n",
    "            num_orders = int(input(\"Enter the number of customer orders:\"))\n",
    "            if num_orders < 0:\n",
    "                raise ValueError(\"Invalid number of orders. Please enter a no negative value\")\n",
    "            valid_num_orders = True \n",
    "        except ValueError as error:\n",
    "            print(f\"Error:{error}\")\n",
    "\n",
    "    for _ in range(num_orders):\n",
    "        valid_product = False \n",
    "        while not valid_product:\n",
    "            try:\n",
    "                product_name = input(\"Enter the name of the product:\")\n",
    "                if product_name not in inventory or inventory[product_name]<= 0:\n",
    "                    raise ValueError(\"Product not available or out of stock. Please enter a different product.\")\n",
    "                customer_orders.add(product_name)\n",
    "                valid_product = True\n",
    "            except ValueError as error:\n",
    "                print (f\"Error:{error}\")\n",
    "    return customer_orders"
   ]
  },
  {
   "cell_type": "code",
   "execution_count": 30,
   "id": "f0a573cd",
   "metadata": {},
   "outputs": [
    {
     "ename": "IndentationError",
     "evalue": "unindent does not match any outer indentation level (<tokenize>, line 8)",
     "output_type": "error",
     "traceback": [
      "\u001b[1;36m  File \u001b[1;32m<tokenize>:8\u001b[1;36m\u001b[0m\n\u001b[1;33m    num_orders = int(input(\"Enter the number of customer orders:\"))\u001b[0m\n\u001b[1;37m    ^\u001b[0m\n\u001b[1;31mIndentationError\u001b[0m\u001b[1;31m:\u001b[0m unindent does not match any outer indentation level\n"
     ]
    }
   ],
   "source": [
    "         #Exercise 03\n",
    "\n",
    "def get_customer_orders(inventory):\n",
    "    customer_orders = set()\n",
    "    valid_num_orders = False \n",
    "    while not valid_num_orders:\n",
    "        try:\n",
    "            num_orders = int(input(\"Enter the number of customer orders:\"))\n",
    "            if num_orders < 0:\n",
    "                raise ValueError(\"Invalid number of orders. Please enter a no negative value\")\n",
    "            valid_num_orders = True \n",
    "        except ValueError as error:\n",
    "            print(f\"Error:{error}\")\n",
    "\n",
    "    for _ in range(num_orders):\n",
    "        valid_product = False \n",
    "        while not valid_product:\n",
    "            try:\n",
    "                product_name = input(\"Enter the name of the product:\")\n",
    "                if product_name not in inventory or inventory[product_name]<= 0:\n",
    "                    raise ValueError(\"Product not available or out of stock. Please enter a different product.\")\n",
    "                customer_orders.add(product_name)\n",
    "                valid_product = True\n",
    "            except ValueError as error:\n",
    "                print (f\"Error:{error}\")\n",
    "    return customer_orders"
   ]
  },
  {
   "cell_type": "code",
   "execution_count": 31,
   "id": "7d318adc",
   "metadata": {},
   "outputs": [],
   "source": [
    "         #Exercise 03\n",
    "def get_customer_orders(inventory):\n",
    "    customer_orders = set()\n",
    "    valid_num_orders = False \n",
    "    while not valid_num_orders:\n",
    "        try:\n",
    "            num_orders = int(input(\"Enter the number of customer orders:\"))\n",
    "            if num_orders < 0:\n",
    "                raise ValueError(\"Invalid number of orders. Please enter a no negative value\")\n",
    "            valid_num_orders = True \n",
    "        except ValueError as error:\n",
    "            print(f\"Error:{error}\")\n",
    "\n",
    "    for _ in range(num_orders):\n",
    "        valid_product = False \n",
    "        while not valid_product:\n",
    "            try:\n",
    "                product_name = input(\"Enter the name of the product:\")\n",
    "                if product_name not in inventory or inventory[product_name]<= 0:\n",
    "                    raise ValueError(\"Product not available or out of stock. Please enter a different product.\")\n",
    "                customer_orders.add(product_name)\n",
    "                valid_product = True\n",
    "            except ValueError as error:\n",
    "                print (f\"Error:{error}\")\n",
    "    return customer_orders"
   ]
  }
 ],
 "metadata": {
  "kernelspec": {
   "display_name": "Python 3 (ipykernel)",
   "language": "python",
   "name": "python3"
  },
  "language_info": {
   "codemirror_mode": {
    "name": "ipython",
    "version": 3
   },
   "file_extension": ".py",
   "mimetype": "text/x-python",
   "name": "python",
   "nbconvert_exporter": "python",
   "pygments_lexer": "ipython3",
   "version": "3.11.5"
  }
 },
 "nbformat": 4,
 "nbformat_minor": 5
}
